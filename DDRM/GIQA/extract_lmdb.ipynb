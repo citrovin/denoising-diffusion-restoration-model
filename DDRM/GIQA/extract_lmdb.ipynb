{
 "cells": [
  {
   "cell_type": "code",
   "execution_count": 2,
   "metadata": {},
   "outputs": [],
   "source": [
    "import lmdb\n",
    "import io\n",
    "from PIL import Image\n",
    "\n",
    "def extract_images_from_lmdb(lmdb_path, output_folder):\n",
    "    # Open the LMDB environment\n",
    "    env = lmdb.open(lmdb_path, readonly=True, lock=False, readahead=False, meminit=False)\n",
    "\n",
    "    # Start a transaction\n",
    "    with env.begin(write=False) as txn:\n",
    "        cursor = txn.cursor()\n",
    "        k = 0\n",
    "        for key, value in cursor:\n",
    "            # Assuming the values are image data (you might have other data types)\n",
    "            img_bytes = io.BytesIO(value)\n",
    "            img = Image.open(img_bytes)\n",
    "            \n",
    "            # You can do further processing here (e.g., save images to disk)\n",
    "            img_name = f\"church_{k}.jpg\"  # Generate a filename\n",
    "            img.save(f\"{output_folder}/{img_name}\")  # Save the image to the output folder\n",
    "            k += 1\n",
    "\n",
    "    env.close()\n",
    "\n",
    "# Replace 'path_to_your_lmdb_folder' with the path to your LMDB folder\n",
    "lmdb_folder_path = './data/church_outdoor_val_lmdb'\n",
    "\n",
    "# Replace 'output_images_folder' with the desired folder to save extracted images\n",
    "output_images_folder = './data/church_outdoor_val_images'\n",
    "\n",
    "extract_images_from_lmdb(lmdb_folder_path, output_images_folder)\n"
   ]
  },
  {
   "cell_type": "code",
   "execution_count": null,
   "metadata": {},
   "outputs": [],
   "source": []
  }
 ],
 "metadata": {
  "kernelspec": {
   "display_name": "ddrm",
   "language": "python",
   "name": "python3"
  },
  "language_info": {
   "codemirror_mode": {
    "name": "ipython",
    "version": 3
   },
   "file_extension": ".py",
   "mimetype": "text/x-python",
   "name": "python",
   "nbconvert_exporter": "python",
   "pygments_lexer": "ipython3",
   "version": "3.8.11"
  }
 },
 "nbformat": 4,
 "nbformat_minor": 2
}
